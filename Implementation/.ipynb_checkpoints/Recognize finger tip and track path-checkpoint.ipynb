{
 "cells": [
  {
   "cell_type": "markdown",
   "metadata": {},
   "source": [
    "# Recognize Finger plus track path\n"
   ]
  },
  {
   "cell_type": "code",
   "execution_count": 1,
   "metadata": {},
   "outputs": [
    {
     "name": "stdout",
     "output_type": "stream",
     "text": [
      "closing\n"
     ]
    }
   ],
   "source": [
    "import cv2\n",
    "import numpy as np\n",
    " \n",
    "cap = cv2.VideoCapture(0)\n",
    " \n",
    "#followed color  equals shiny pink\n",
    "lower_pink = np.array([137,80,80])         # 30 80 80   for green \n",
    "upper_pink = np.array([165,255,255])       # 80 255 255 for green    \n",
    "    \n",
    "frame_count = 0\n",
    "points = []                                # Array to safe track of finger tip\n",
    " \n",
    "ret, frame = cap.read()\n",
    "Height, Width = frame.shape[:2]\n",
    "center = int(Height/2), int(Width/2)       # Need this once -moved outside the loop\n",
    " \n",
    "nmb = np.zeros((Height,Width,3), np.uint8) # Frame for line drawing \n",
    " \n",
    "min_valid_area = 400                       # Min area that a valid contour is supposed to have\n",
    "max_line_lenght = 70                       # Lenght of tracking line, increase to have longer lines\n",
    " \n",
    "while cap.isOpened():\n",
    "    ret, frame = cap.read()\n",
    "    \n",
    "    if ret:                                                        # Runs if cam frame is valid\n",
    "        hsv_img = cv2.cvtColor(frame, cv2.COLOR_BGR2HSV)           # Convert BGR to HSV\n",
    "        mask = cv2.inRange(hsv_img, lower_pink, upper_pink)        # Creates mask for given color in hsv image\n",
    "        blurred = cv2.GaussianBlur(mask, (3, 3), 0)                # Added gaussianblur to remove fuzzy contour detections\n",
    "        \n",
    "        # Next line searches for contours in hsv-mask\n",
    "        _, contours, _ = cv2.findContours(blurred.copy(), cv2.RETR_EXTERNAL, cv2.CHAIN_APPROX_SIMPLE)\n",
    "                                                                   # cv2.RETR_EXTERNAL returns only extreme outer flags, all child contours are left behind.\n",
    "                                                                   # cv2.CHAIN_APPROX_SIMPLE removes all redundant points and compresses the contour\n",
    "        if len(contours) > 0:                                      # Checks if contours are existing\n",
    "            main_contour = max(contours, key=cv2.contourArea)      # Prepares for main area detection of finger tip\n",
    "            main_contour_area = cv2.contourArea(main_contour)      # Creates a contour around main area\n",
    "            \n",
    "            if main_contour_area >= min_valid_area:                # If main area is smaller than treshhold, than it is maybe only something in the background\n",
    "                (contour_x, contour_y), contour_radius = cv2.minEnclosingCircle(main_contour)                # Creates circle around main area\n",
    "                cv2.circle(frame, (int(contour_x), int(contour_y)), int(contour_radius),(0, 0, 255), 2)      \n",
    "                cv2.circle(frame, (int(contour_x), int(contour_y)), int(contour_radius / 10),(0, 255, 0), -1)\n",
    "                # No need to calculate moments here, because minCircle is already calculated\n",
    "                \n",
    "                if len(points) >= max_line_lenght:                 # If the line gets to long, remove the first element\n",
    "                    points.pop(0)                                  # pop(0) deletes entry at 0\n",
    "                    \n",
    "                points.append((int(contour_x), int(contour_y)))    # Append new point\n",
    "                for i in range(1, len(points)):                    # No need for try | for-loop which goes through points array and draws each pixel\n",
    "                    cv2.line(frame, points[i - 1], points[i], (0, 255, 0), 2)  # Draws line in frame\n",
    "                for i in range(1, len(points)):                    # No need for try | for-loop which goes through points array and draws each pixel\n",
    "                    cv2.line(nmb, points[i - 1], points[i], (0, 255, 0), 2)  # Draws line in frame\n",
    "\n",
    "                frame_count = 0\n",
    "            else:\n",
    "                frame_count += 1\n",
    "        else:\n",
    "            frame_count += 1\n",
    "  \n",
    "        if frame_count == 10000:\n",
    "            points = []\n",
    "            frame_count = 0\n",
    "                \n",
    "        frame = cv2.flip(frame, 1)                                 # Flip output image\n",
    "        nmb_out = cv2.flip(nmb, 1)\n",
    "        cv2.imshow('Object tracker', frame)                        # Show the mirrored image to user\n",
    "        cv2.imshow('Number sketch', nmb_out)\n",
    "    else:                                                          # Handle camera error\n",
    "        print(\"Cam frame error...\")                                # For debugging, if cam error is real\n",
    "    \n",
    "    if cv2.waitKey(1) == 13:                                       # Enter key for closing frames\n",
    "        break\n",
    "print('closing')\n",
    "cap.release()\n",
    "cv2.destroyWindow('Object tracker')\n",
    "\n",
    "cv2.waitKey(0)\n",
    "cv2.destroyAllWindows()"
   ]
  },
  {
   "cell_type": "code",
   "execution_count": null,
   "metadata": {},
   "outputs": [],
   "source": []
  }
 ],
 "metadata": {
  "kernelspec": {
   "display_name": "Python 2",
   "language": "python",
   "name": "python2"
  },
  "language_info": {
   "codemirror_mode": {
    "name": "ipython",
    "version": 2
   },
   "file_extension": ".py",
   "mimetype": "text/x-python",
   "name": "python",
   "nbconvert_exporter": "python",
   "pygments_lexer": "ipython2",
   "version": "2.7.15"
  }
 },
 "nbformat": 4,
 "nbformat_minor": 1
}
